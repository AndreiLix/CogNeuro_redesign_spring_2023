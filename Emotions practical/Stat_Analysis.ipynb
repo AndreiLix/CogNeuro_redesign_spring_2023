{
 "cells": [
  {
   "cell_type": "markdown",
   "id": "6e1f118a-e6e2-4301-bb3f-cbe2d9cd6b93",
   "metadata": {},
   "source": [
    "# Practical 04: Social Cognition and Emotions"
   ]
  },
  {
   "cell_type": "code",
   "execution_count": 158,
   "id": "dc545e77-cd95-41f6-a22a-a5b6f3ddf3cf",
   "metadata": {},
   "outputs": [],
   "source": [
    "# Credits: this notebook was written by Katarzyna Klęczek and Ilaria Gavetti for the \n",
    "# Cognitive Neuroscience Social Cognition and Emotions lab."
   ]
  },
  {
   "cell_type": "markdown",
   "id": "0af6b2af-ad52-4c60-9367-f9262a9307db",
   "metadata": {},
   "source": [
    "## Statistical Analysis of mean response times for emotional vs neutral faces"
   ]
  },
  {
   "cell_type": "markdown",
   "id": "f9500d94-eeb8-4ab4-a5c2-216d12ba849e",
   "metadata": {},
   "source": [
    "**Please add** in the cell below the names and u-numbers of the group members who were present and participated in the practical:\n"
   ]
  },
  {
   "cell_type": "code",
   "execution_count": null,
   "id": "360073be-fdde-4472-b2f8-2eb48c1a71d8",
   "metadata": {},
   "outputs": [],
   "source": [
    "#\n",
    "#\n",
    "#\n",
    "#"
   ]
  },
  {
   "cell_type": "markdown",
   "id": "162fb7d5-b384-4cf2-9a5b-75ee70e8df76",
   "metadata": {},
   "source": [
    "# Experiment"
   ]
  },
  {
   "cell_type": "markdown",
   "id": "c22bead0-6bd7-44ae-be97-70c23ae60f1f",
   "metadata": {},
   "source": [
    "In this notebook, you will run two paired samples t-tests on the data you collected during the behavioural experiment: specifically, you will run the tests between:\n",
    "\n",
    "1) The 50 ms emotional trials and the 50 ms neutral trials;\n",
    "2) The 200 ms emotional trials and the 200 ms neutral trials;"
   ]
  },
  {
   "cell_type": "markdown",
   "id": "2b04f9e6-4330-4071-8792-ec569e2e5330",
   "metadata": {},
   "source": [
    "# Expectation"
   ]
  },
  {
   "cell_type": "markdown",
   "id": "cd502313-5d4e-49b1-9c0c-4b28d55354c6",
   "metadata": {},
   "source": [
    "We are interested in seeing whether we will find **any significant difference in reaction times between 1. and 2.** (as layed out above).\n",
    "\n",
    "This means that we are interested in seeing **whether the reaction times between emotional and neutral faces will significantly differ when the exposure to the stimuli is 50 ms and 200 ms**.\n",
    "\n",
    "The **expecation** is that the **emotional stiuli will yield a faster reaction time** than the neutral stimuli, in either the 50 ms or 200 ms trials."
   ]
  },
  {
   "cell_type": "markdown",
   "id": "afeac97b-3f87-4194-af5c-7f6923a78921",
   "metadata": {},
   "source": [
    "# Analysis"
   ]
  },
  {
   "cell_type": "code",
   "execution_count": null,
   "id": "946007b1-7310-4139-a8af-d69b517987bd",
   "metadata": {},
   "outputs": [],
   "source": [
    "# import relevant libraries\n",
    "import os\n",
    "import pandas as pd\n",
    "import scipy.stats as stats"
   ]
  },
  {
   "cell_type": "code",
   "execution_count": null,
   "id": "bf6be194-1b19-426f-b367-4b9d8a39eec1",
   "metadata": {},
   "outputs": [],
   "source": [
    "os.getcwd()"
   ]
  },
  {
   "cell_type": "code",
   "execution_count": null,
   "id": "4f0f14aa-356e-43d0-b162-3f79db95d659",
   "metadata": {},
   "outputs": [],
   "source": [
    "#load the data\n",
    "\n",
    "data = pd.read_csv('csv_file', sep=\",\")"
   ]
  },
  {
   "cell_type": "code",
   "execution_count": null,
   "id": "9536e2f7-b394-4352-a01a-00e5297dd7be",
   "metadata": {},
   "outputs": [],
   "source": [
    "# Visualize the data\n",
    "\n",
    "data"
   ]
  },
  {
   "cell_type": "code",
   "execution_count": null,
   "id": "47dee81e-0cb7-4eb3-8647-88af6a4a36fa",
   "metadata": {},
   "outputs": [],
   "source": [
    "# Create four lists that are going to be used to analyze the reaction times\n",
    "\n",
    "emotional_50_ms = []\n",
    "neutral_50_ms = []\n",
    "emotional_200_ms = []\n",
    "neutral_200_ms = []\n"
   ]
  },
  {
   "cell_type": "code",
   "execution_count": null,
   "id": "1986f05f-d456-4f89-b676-01caccf23aa0",
   "metadata": {},
   "outputs": [],
   "source": [
    "# Sort the reaction times (in ms) in the corresponding lists\n",
    "\n",
    "i = 0\n",
    "for iStim in data[\"Stimulus type\"]:\n",
    "    if iStim == \"Emotional 50 ms\":\n",
    "        emotional_50_ms.append(data[\"Reaction time\"][i])\n",
    "    elif iStim == \"Neutral 50 ms\":\n",
    "        neutral_50_ms.append(data[\"Reaction time\"][i])\n",
    "    elif iStim == \"Emotional 200 ms\":\n",
    "        emotional_200_ms.append(data[\"Reaction time\"][i])\n",
    "    elif iStim == \"Neutral 200 ms\":\n",
    "        neutral_200_ms.append(data[\"Reaction time\"][i])\n",
    "    else:\n",
    "        print(\"ERROR: Stimulus not found\")\n",
    "    i += 1\n",
    "    \n",
    "print(\"Ready!\")"
   ]
  },
  {
   "cell_type": "code",
   "execution_count": null,
   "id": "b0e9183b-4d5f-47f7-b07d-7000fc1b6357",
   "metadata": {},
   "outputs": [],
   "source": [
    "# Visualise the sorted lists\n",
    "\n",
    "emotional_50_ms"
   ]
  },
  {
   "cell_type": "code",
   "execution_count": null,
   "id": "10eefe78-9124-4f9a-a407-e54aa3ec4bda",
   "metadata": {},
   "outputs": [],
   "source": [
    "# Visualise the sorted lists\n",
    "\n",
    "neutral_50_ms"
   ]
  },
  {
   "cell_type": "code",
   "execution_count": null,
   "id": "05b6fdaa-a6d1-4706-9f32-1201ff629b0e",
   "metadata": {},
   "outputs": [],
   "source": [
    "# Visualise the sorted lists\n",
    "\n",
    "emotional_200_ms "
   ]
  },
  {
   "cell_type": "code",
   "execution_count": null,
   "id": "ef4067ab-191d-47f2-b767-323ee78ca6e1",
   "metadata": {},
   "outputs": [],
   "source": [
    "# Visualise the sorted lists\n",
    "\n",
    "neutral_200_ms"
   ]
  },
  {
   "cell_type": "code",
   "execution_count": null,
   "id": "a4076079-ef0c-436f-bf9e-818823e750cb",
   "metadata": {},
   "outputs": [],
   "source": [
    "# Perform the paired sample t-test between emotional_50_ms and neutral_50_ms (two-sided p-value)\n",
    "\n",
    "stats.ttest_rel(emotional_50_ms, neutral_50_ms)"
   ]
  },
  {
   "cell_type": "code",
   "execution_count": null,
   "id": "25713cf7-6944-4735-b903-a2882b03715a",
   "metadata": {},
   "outputs": [],
   "source": [
    "# Perform the paired sample t-test between emotional_200_ms and neutral_200_ms (two-sided p-value)\n",
    "\n",
    "stats.ttest_rel(emotional_200_ms, neutral_200_ms)"
   ]
  },
  {
   "cell_type": "markdown",
   "id": "7eaed64b-c0c9-4c74-ac95-90b81796953e",
   "metadata": {},
   "source": [
    "### The paired samples t-test follows the null and alternative hypotheses:\n",
    "\n",
    "H0: It signifies that the mean pre-test and post-test scores are equal\n",
    "\n",
    "HA: It signifies that the mean pre-test and post-test scores are not equal"
   ]
  },
  {
   "cell_type": "markdown",
   "id": "db6be58f-a6eb-49ba-b831-55aa04a60f42",
   "metadata": {},
   "source": [
    "If p-value is lower than 0.05 we reject the null hypothesis, and so, we have enough proof to claim that the true mean test score is different for reaction times for emotional and neutral faces. "
   ]
  },
  {
   "cell_type": "markdown",
   "id": "a00dd249-32af-4421-9136-69ad2a69b1e8",
   "metadata": {},
   "source": [
    "# The End"
   ]
  }
 ],
 "metadata": {
  "kernelspec": {
   "display_name": "Python 3 (ipykernel)",
   "language": "python",
   "name": "python3"
  },
  "language_info": {
   "codemirror_mode": {
    "name": "ipython",
    "version": 3
   },
   "file_extension": ".py",
   "mimetype": "text/x-python",
   "name": "python",
   "nbconvert_exporter": "python",
   "pygments_lexer": "ipython3",
   "version": "3.9.7"
  }
 },
 "nbformat": 4,
 "nbformat_minor": 5
}
