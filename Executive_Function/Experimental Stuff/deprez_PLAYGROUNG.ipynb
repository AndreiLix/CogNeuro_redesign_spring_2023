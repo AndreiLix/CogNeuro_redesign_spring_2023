{
 "cells": [
  {
   "cell_type": "markdown",
   "metadata": {},
   "source": [
    "# Imports"
   ]
  },
  {
   "cell_type": "code",
   "execution_count": 1,
   "metadata": {},
   "outputs": [],
   "source": [
    "import numpy as np\n",
    "import pandas as pd\n",
    "from pylsl import StreamInlet, resolve_stream\n",
    "from matplotlib import pyplot as plt\n",
    "import random"
   ]
  },
  {
   "cell_type": "code",
   "execution_count": 1,
   "metadata": {},
   "outputs": [
    {
     "name": "stdout",
     "output_type": "stream",
     "text": [
      "looking for an EEG stream...\n"
     ]
    }
   ],
   "source": [
    "\n",
    "# BAD SCRIPT!\n",
    "\n",
    "\n",
    "# \"\"\"Example program to show how to read a multi-channel time series from LSL.\"\"\"\n",
    "\n",
    "# from pylsl import StreamInlet, resolve_stream\n",
    "\n",
    "# # first resolve an EEG stream on the lab network\n",
    "# print(\"looking for an EEG stream...\")\n",
    "# streams = resolve_stream('type', 'EEG')\n",
    "\n",
    "# # create a new inlet to read from the stream\n",
    "# inlet = StreamInlet(streams[0])\n",
    "\n",
    "# while True:\n",
    "#     # get a new sample (you can also omit the timestamp part if you're not\n",
    "#     # interested in it)\n",
    "#     sample, timestamp = inlet.pull_sample()\n",
    "#     print(timestamp, sample)"
   ]
  },
  {
   "cell_type": "code",
   "execution_count": 2,
   "metadata": {},
   "outputs": [
    {
     "name": "stdout",
     "output_type": "stream",
     "text": [
      "Requirement already satisfied: pylsl in c:\\users\\user1\\anaconda3\\lib\\site-packages (1.16.0)\n"
     ]
    }
   ],
   "source": [
    "!pip install pylsl"
   ]
  },
  {
   "cell_type": "code",
   "execution_count": 21,
   "metadata": {},
   "outputs": [],
   "source": [
    "from pylsl import StreamInlet, resolve_stream\n",
    "import pandas as pd\n",
    "\n",
    "# initialize the streaming layer\n",
    "finished = False\n",
    "streams = resolve_stream()\n",
    "inlet = StreamInlet(streams[0])\n",
    "\n",
    "# initialize the colomns of your data and your dictionary to capture the data.\n",
    "columns=['Time','FZ', 'C3', 'CZ', 'C4', 'PZ', 'PO7', 'OZ', 'PO8','AccX','AccY','AccZ','Gyro1','Gyro2','Gyro3', 'Battery','Counter','Validation']\n",
    "data_dict = dict((k, []) for k in columns)\n",
    "\n",
    "while not finished:\n",
    "   # get the streamed data. Columns of sample are equal to the columns variable, only the first element being timestamp\n",
    "   # concatenate timestamp and data in 1 list\n",
    "   data, timestamp = inlet.pull_sample()\n",
    "   all_data = [timestamp] + data\n",
    "   \n",
    "   # updating data dictionary with newly transmitted samples   \n",
    "   i = 0\n",
    "   for bababowe in list(data_dict.keys()):\n",
    "      data_dict[bababowe].append(all_data[i])\n",
    "      i = i + 1\n",
    "   \n",
    "   \n",
    "   # print(data_dict)\n",
    "   # data is collected at 250 Hz. Let's stop data collection after 10 seconds. Meaning we stop when we collected 250*10 samples.\n",
    "   if len(data_dict['Time']) >= 250*10:\n",
    "      finished = True\n",
    "      \n",
    "      \n",
    "\n",
    "# lastly, we can save our data to a CSV format.\n",
    "\n",
    "\n",
    "data_df = pd.DataFrame.from_dict(data_dict)\n",
    "data_df.to_csv('EEGdata.csv', index = False)"
   ]
  },
  {
   "cell_type": "code",
   "execution_count": 7,
   "metadata": {},
   "outputs": [
    {
     "name": "stdout",
     "output_type": "stream",
     "text": [
      "dict_keys(['Time', 'FZ', 'C3', 'CZ', 'C4', 'PZ', 'PO7', 'OZ', 'PO8', 'AccX', 'AccY', 'AccZ', 'Gyro1', 'Gyro2', 'Gyro3', 'Battery', 'Counter', 'Validation'])\n"
     ]
    }
   ],
   "source": [
    "print(data_dict.keys())"
   ]
  },
  {
   "cell_type": "markdown",
   "metadata": {},
   "source": [
    "# Integration images + LSL stream"
   ]
  },
  {
   "cell_type": "markdown",
   "metadata": {},
   "source": [
    "we want a new key: data_dict[\"Cue\"] = \"blank\" / \"go\" / \"no-go\"\n",
    "\n",
    "when "
   ]
  },
  {
   "cell_type": "markdown",
   "metadata": {},
   "source": []
  },
  {
   "cell_type": "code",
   "execution_count": 4,
   "metadata": {},
   "outputs": [
    {
     "name": "stdout",
     "output_type": "stream",
     "text": [
      "0\n"
     ]
    },
    {
     "ename": "TclError",
     "evalue": "invalid command name \".!canvas\"",
     "output_type": "error",
     "traceback": [
      "\u001b[1;31m---------------------------------------------------------------------------\u001b[0m",
      "\u001b[1;31mTclError\u001b[0m                                  Traceback (most recent call last)",
      "\u001b[1;32m~\\AppData\\Local\\Temp\\ipykernel_3880\\55701381.py\u001b[0m in \u001b[0;36m<module>\u001b[1;34m\u001b[0m\n\u001b[0;32m     85\u001b[0m \u001b[1;33m\u001b[0m\u001b[0m\n\u001b[0;32m     86\u001b[0m    \u001b[1;32mif\u001b[0m \u001b[0msample_index\u001b[0m \u001b[1;33m<\u001b[0m \u001b[1;36m1000\u001b[0m\u001b[1;33m:\u001b[0m\u001b[1;33m\u001b[0m\u001b[1;33m\u001b[0m\u001b[0m\n\u001b[1;32m---> 87\u001b[1;33m       \u001b[0mmy_canvas\u001b[0m\u001b[1;33m.\u001b[0m\u001b[0mcreate_image\u001b[0m\u001b[1;33m(\u001b[0m\u001b[1;36m0\u001b[0m\u001b[1;33m,\u001b[0m \u001b[1;36m0\u001b[0m\u001b[1;33m,\u001b[0m \u001b[0mimage\u001b[0m \u001b[1;33m=\u001b[0m \u001b[0mblank_screen\u001b[0m\u001b[1;33m,\u001b[0m \u001b[0manchor\u001b[0m \u001b[1;33m=\u001b[0m \u001b[1;34m\"nw\"\u001b[0m \u001b[1;33m)\u001b[0m\u001b[1;33m\u001b[0m\u001b[1;33m\u001b[0m\u001b[0m\n\u001b[0m\u001b[0;32m     88\u001b[0m       \u001b[0mroot\u001b[0m\u001b[1;33m.\u001b[0m\u001b[0mmainloop\u001b[0m\u001b[1;33m(\u001b[0m\u001b[1;33m)\u001b[0m\u001b[1;33m\u001b[0m\u001b[1;33m\u001b[0m\u001b[0m\n\u001b[0;32m     89\u001b[0m    \u001b[1;31m#elif sample_index <= 1125:\u001b[0m\u001b[1;33m\u001b[0m\u001b[1;33m\u001b[0m\u001b[0m\n",
      "\u001b[1;32mc:\\Users\\user1\\anaconda3\\lib\\tkinter\\__init__.py\u001b[0m in \u001b[0;36mcreate_image\u001b[1;34m(self, *args, **kw)\u001b[0m\n\u001b[0;32m   2788\u001b[0m     \u001b[1;32mdef\u001b[0m \u001b[0mcreate_image\u001b[0m\u001b[1;33m(\u001b[0m\u001b[0mself\u001b[0m\u001b[1;33m,\u001b[0m \u001b[1;33m*\u001b[0m\u001b[0margs\u001b[0m\u001b[1;33m,\u001b[0m \u001b[1;33m**\u001b[0m\u001b[0mkw\u001b[0m\u001b[1;33m)\u001b[0m\u001b[1;33m:\u001b[0m\u001b[1;33m\u001b[0m\u001b[1;33m\u001b[0m\u001b[0m\n\u001b[0;32m   2789\u001b[0m         \u001b[1;34m\"\"\"Create image item with coordinates x1,y1.\"\"\"\u001b[0m\u001b[1;33m\u001b[0m\u001b[1;33m\u001b[0m\u001b[0m\n\u001b[1;32m-> 2790\u001b[1;33m         \u001b[1;32mreturn\u001b[0m \u001b[0mself\u001b[0m\u001b[1;33m.\u001b[0m\u001b[0m_create\u001b[0m\u001b[1;33m(\u001b[0m\u001b[1;34m'image'\u001b[0m\u001b[1;33m,\u001b[0m \u001b[0margs\u001b[0m\u001b[1;33m,\u001b[0m \u001b[0mkw\u001b[0m\u001b[1;33m)\u001b[0m\u001b[1;33m\u001b[0m\u001b[1;33m\u001b[0m\u001b[0m\n\u001b[0m\u001b[0;32m   2791\u001b[0m \u001b[1;33m\u001b[0m\u001b[0m\n\u001b[0;32m   2792\u001b[0m     \u001b[1;32mdef\u001b[0m \u001b[0mcreate_line\u001b[0m\u001b[1;33m(\u001b[0m\u001b[0mself\u001b[0m\u001b[1;33m,\u001b[0m \u001b[1;33m*\u001b[0m\u001b[0margs\u001b[0m\u001b[1;33m,\u001b[0m \u001b[1;33m**\u001b[0m\u001b[0mkw\u001b[0m\u001b[1;33m)\u001b[0m\u001b[1;33m:\u001b[0m\u001b[1;33m\u001b[0m\u001b[1;33m\u001b[0m\u001b[0m\n",
      "\u001b[1;32mc:\\Users\\user1\\anaconda3\\lib\\tkinter\\__init__.py\u001b[0m in \u001b[0;36m_create\u001b[1;34m(self, itemType, args, kw)\u001b[0m\n\u001b[0;32m   2774\u001b[0m         \u001b[1;32melse\u001b[0m\u001b[1;33m:\u001b[0m\u001b[1;33m\u001b[0m\u001b[1;33m\u001b[0m\u001b[0m\n\u001b[0;32m   2775\u001b[0m             \u001b[0mcnf\u001b[0m \u001b[1;33m=\u001b[0m \u001b[1;33m{\u001b[0m\u001b[1;33m}\u001b[0m\u001b[1;33m\u001b[0m\u001b[1;33m\u001b[0m\u001b[0m\n\u001b[1;32m-> 2776\u001b[1;33m         return self.tk.getint(self.tk.call(\n\u001b[0m\u001b[0;32m   2777\u001b[0m             \u001b[0mself\u001b[0m\u001b[1;33m.\u001b[0m\u001b[0m_w\u001b[0m\u001b[1;33m,\u001b[0m \u001b[1;34m'create'\u001b[0m\u001b[1;33m,\u001b[0m \u001b[0mitemType\u001b[0m\u001b[1;33m,\u001b[0m\u001b[1;33m\u001b[0m\u001b[1;33m\u001b[0m\u001b[0m\n\u001b[0;32m   2778\u001b[0m             *(args + self._options(cnf, kw))))\n",
      "\u001b[1;31mTclError\u001b[0m: invalid command name \".!canvas\""
     ]
    }
   ],
   "source": [
    "from pylsl import StreamInlet, resolve_stream\n",
    "import pandas as pd\n",
    "\n",
    "# initialize the streaming layer\n",
    "finished = False\n",
    "streams = resolve_stream()\n",
    "inlet = StreamInlet(streams[0])\n",
    "\n",
    "#load images\n",
    "\n",
    "\n",
    "# initialize the colomns of your data and your dictionary to capture the data.\n",
    "columns=['Time','FZ', 'C3', 'CZ', 'C4', 'PZ', 'PO7', 'OZ', 'PO8','AccX','AccY','AccZ','Gyro1','Gyro2','Gyro3', 'Battery','Counter','Validation', \"Cue\"]\n",
    "data_dict = dict((k, []) for k in columns)\n",
    "\n",
    "#----------------- Icluding images -------------\n",
    "\n",
    "from tkinter import *\n",
    "\n",
    "root = Tk()\n",
    "\n",
    "root.geometry( \"1920x1080\" )\n",
    "root.title( \"Calibration Setting\")\n",
    "\n",
    "our_images = [\n",
    "\n",
    "    # make sure to use png here\n",
    "\n",
    "    PhotoImage( file = \"C:\\\\Users\\\\user1\\\\Desktop\\\\Cog_Neuro_Workspace\\\\images\\\\blank_screen.png\" ),\n",
    "    PhotoImage( file = \"C:\\\\Users\\\\user1\\\\Desktop\\\\Cog_Neuro_Workspace\\\\images\\\\circle_blue.png\" ),\n",
    "    PhotoImage( file = \"C:\\\\Users\\\\user1\\\\Desktop\\\\Cog_Neuro_Workspace\\\\images\\\\circle_green.png\" )\n",
    "]\n",
    "\n",
    "\n",
    "blank_screen = our_images[0]\n",
    "blue_circle = our_images[1]\n",
    "green_circle = our_images[2]\n",
    "\n",
    "global count, i_ques\n",
    "\n",
    "\n",
    "# 1900 x 1000 pixels\n",
    "\n",
    "my_canvas = Canvas( root, width = 1920, height = 1080)\n",
    "my_canvas.pack(fill = \"both\", expand = True)\n",
    "\n",
    "my_canvas.create_image(0, 0, image = our_images[0], anchor = \"nw\" )\n",
    "\n",
    "\n",
    "\n",
    "\n",
    "#-----------------------------------------------\n",
    "\n",
    "\n",
    "sample_index = 0\n",
    "\n",
    "while not finished:\n",
    "   # get the streamed data. Columns of sample are equal to the columns variable, only the first element being timestamp\n",
    "   # concatenate timestamp and data in 1 list\n",
    "   \n",
    "\n",
    "\n",
    "   \n",
    "   data, timestamp = inlet.pull_sample()\n",
    "\n",
    "   one_sample = data\n",
    "   all_data = [timestamp] + data + [random.randint(0, 3)]\n",
    "   \n",
    "   # updating data dictionary with newly transmitted samples   \n",
    "   i = 0\n",
    "   for key in list(data_dict.keys()):\n",
    "      data_dict[key].append(all_data[i])\n",
    "      i = i + 1\n",
    "   \n",
    "   \n",
    "   # print(data_dict)\n",
    "\n",
    "   # data is collected at 250 Hz. Let's stop data collection after 225 seconds. Meaning we stop when we collected 250*225 samples.\n",
    "   if len(data_dict['Time']) >= 250*10:\n",
    "      finished = True\n",
    "      \n",
    "\n",
    "\n",
    "   #----------------- testing image integration ----------\n",
    "\n",
    "   if sample_index < 1000:\n",
    "      my_canvas.create_image(0, 0, image = blank_screen, anchor = \"nw\" )\n",
    "      root.mainloop()\n",
    "   #elif sample_index <= 1125:\n",
    "   else:\n",
    "      my_canvas.create_image(0, 0, image = green_circle, anchor = \"nw\" )\n",
    "      root.mainloop()\n",
    "\n",
    "   print(sample_index)\n",
    "\n",
    "   #-----------------------------------------------------\n",
    "\n",
    "\n",
    "   sample_index += 1\n",
    "      \n",
    "\n",
    "# lastly, we can save our data to a CSV format.\n",
    "\n",
    "data_df = pd.DataFrame.from_dict(data_dict)\n",
    "data_df.to_csv('EEGdata.csv', index = False)"
   ]
  }
 ],
 "metadata": {
  "kernelspec": {
   "display_name": "Python 3.10.6 64-bit",
   "language": "python",
   "name": "python3"
  },
  "language_info": {
   "codemirror_mode": {
    "name": "ipython",
    "version": 3
   },
   "file_extension": ".py",
   "mimetype": "text/x-python",
   "name": "python",
   "nbconvert_exporter": "python",
   "pygments_lexer": "ipython3",
   "version": "3.10.6"
  },
  "orig_nbformat": 4,
  "vscode": {
   "interpreter": {
    "hash": "916dbcbb3f70747c44a77c7bcd40155683ae19c65e1c03b4aa3499c5328201f1"
   }
  }
 },
 "nbformat": 4,
 "nbformat_minor": 2
}
